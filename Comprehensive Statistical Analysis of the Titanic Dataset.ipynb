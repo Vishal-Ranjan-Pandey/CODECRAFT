{
 "cells": [
  {
   "cell_type": "markdown",
   "id": "4316df9d",
   "metadata": {},
   "source": [
    "### Install & Import Required Libraries"
   ]
  },
  {
   "cell_type": "code",
   "execution_count": 1,
   "id": "42ad22ed",
   "metadata": {},
   "outputs": [],
   "source": [
    "# Import Libraries\n",
    "import numpy as np\n",
    "import pandas as pd\n",
    "import seaborn as sns\n",
    "import matplotlib.pyplot as plt\n",
    "from scipy import stats\n",
    "import statsmodels.api as sm\n",
    "import statsmodels.formula.api as smf\n"
   ]
  },
  {
   "cell_type": "markdown",
   "id": "81227464",
   "metadata": {},
   "source": [
    "### Load & Explore the dataset"
   ]
  },
  {
   "cell_type": "code",
   "execution_count": 3,
   "id": "9635c47e",
   "metadata": {},
   "outputs": [
    {
     "data": {
      "text/html": [
       "<div>\n",
       "<style scoped>\n",
       "    .dataframe tbody tr th:only-of-type {\n",
       "        vertical-align: middle;\n",
       "    }\n",
       "\n",
       "    .dataframe tbody tr th {\n",
       "        vertical-align: top;\n",
       "    }\n",
       "\n",
       "    .dataframe thead th {\n",
       "        text-align: right;\n",
       "    }\n",
       "</style>\n",
       "<table border=\"1\" class=\"dataframe\">\n",
       "  <thead>\n",
       "    <tr style=\"text-align: right;\">\n",
       "      <th></th>\n",
       "      <th>PassengerId</th>\n",
       "      <th>Survived</th>\n",
       "      <th>Pclass</th>\n",
       "      <th>Name</th>\n",
       "      <th>Sex</th>\n",
       "      <th>Age</th>\n",
       "      <th>SibSp</th>\n",
       "      <th>Parch</th>\n",
       "      <th>Ticket</th>\n",
       "      <th>Fare</th>\n",
       "      <th>Cabin</th>\n",
       "      <th>Embarked</th>\n",
       "    </tr>\n",
       "  </thead>\n",
       "  <tbody>\n",
       "    <tr>\n",
       "      <th>0</th>\n",
       "      <td>1</td>\n",
       "      <td>0</td>\n",
       "      <td>3</td>\n",
       "      <td>Braund, Mr. Owen Harris</td>\n",
       "      <td>male</td>\n",
       "      <td>22.0</td>\n",
       "      <td>1</td>\n",
       "      <td>0</td>\n",
       "      <td>A/5 21171</td>\n",
       "      <td>7.2500</td>\n",
       "      <td>NaN</td>\n",
       "      <td>S</td>\n",
       "    </tr>\n",
       "    <tr>\n",
       "      <th>1</th>\n",
       "      <td>2</td>\n",
       "      <td>1</td>\n",
       "      <td>1</td>\n",
       "      <td>Cumings, Mrs. John Bradley (Florence Briggs Th...</td>\n",
       "      <td>female</td>\n",
       "      <td>38.0</td>\n",
       "      <td>1</td>\n",
       "      <td>0</td>\n",
       "      <td>PC 17599</td>\n",
       "      <td>71.2833</td>\n",
       "      <td>C85</td>\n",
       "      <td>C</td>\n",
       "    </tr>\n",
       "    <tr>\n",
       "      <th>2</th>\n",
       "      <td>3</td>\n",
       "      <td>1</td>\n",
       "      <td>3</td>\n",
       "      <td>Heikkinen, Miss. Laina</td>\n",
       "      <td>female</td>\n",
       "      <td>26.0</td>\n",
       "      <td>0</td>\n",
       "      <td>0</td>\n",
       "      <td>STON/O2. 3101282</td>\n",
       "      <td>7.9250</td>\n",
       "      <td>NaN</td>\n",
       "      <td>S</td>\n",
       "    </tr>\n",
       "    <tr>\n",
       "      <th>3</th>\n",
       "      <td>4</td>\n",
       "      <td>1</td>\n",
       "      <td>1</td>\n",
       "      <td>Futrelle, Mrs. Jacques Heath (Lily May Peel)</td>\n",
       "      <td>female</td>\n",
       "      <td>35.0</td>\n",
       "      <td>1</td>\n",
       "      <td>0</td>\n",
       "      <td>113803</td>\n",
       "      <td>53.1000</td>\n",
       "      <td>C123</td>\n",
       "      <td>S</td>\n",
       "    </tr>\n",
       "    <tr>\n",
       "      <th>4</th>\n",
       "      <td>5</td>\n",
       "      <td>0</td>\n",
       "      <td>3</td>\n",
       "      <td>Allen, Mr. William Henry</td>\n",
       "      <td>male</td>\n",
       "      <td>35.0</td>\n",
       "      <td>0</td>\n",
       "      <td>0</td>\n",
       "      <td>373450</td>\n",
       "      <td>8.0500</td>\n",
       "      <td>NaN</td>\n",
       "      <td>S</td>\n",
       "    </tr>\n",
       "  </tbody>\n",
       "</table>\n",
       "</div>"
      ],
      "text/plain": [
       "   PassengerId  Survived  Pclass  ...     Fare Cabin  Embarked\n",
       "0            1         0       3  ...   7.2500   NaN         S\n",
       "1            2         1       1  ...  71.2833   C85         C\n",
       "2            3         1       3  ...   7.9250   NaN         S\n",
       "3            4         1       1  ...  53.1000  C123         S\n",
       "4            5         0       3  ...   8.0500   NaN         S\n",
       "\n",
       "[5 rows x 12 columns]"
      ]
     },
     "execution_count": 3,
     "metadata": {},
     "output_type": "execute_result"
    }
   ],
   "source": [
    "df = pd.read_csv('train.csv')\n",
    "df.head()"
   ]
  },
  {
   "cell_type": "code",
   "execution_count": 4,
   "id": "1018fd97",
   "metadata": {},
   "outputs": [
    {
     "name": "stdout",
     "output_type": "stream",
     "text": [
      "<class 'pandas.core.frame.DataFrame'>\n",
      "RangeIndex: 891 entries, 0 to 890\n",
      "Data columns (total 12 columns):\n",
      " #   Column       Non-Null Count  Dtype  \n",
      "---  ------       --------------  -----  \n",
      " 0   PassengerId  891 non-null    int64  \n",
      " 1   Survived     891 non-null    int64  \n",
      " 2   Pclass       891 non-null    int64  \n",
      " 3   Name         891 non-null    object \n",
      " 4   Sex          891 non-null    object \n",
      " 5   Age          714 non-null    float64\n",
      " 6   SibSp        891 non-null    int64  \n",
      " 7   Parch        891 non-null    int64  \n",
      " 8   Ticket       891 non-null    object \n",
      " 9   Fare         891 non-null    float64\n",
      " 10  Cabin        204 non-null    object \n",
      " 11  Embarked     889 non-null    object \n",
      "dtypes: float64(2), int64(5), object(5)\n",
      "memory usage: 83.7+ KB\n"
     ]
    }
   ],
   "source": [
    "df.info()"
   ]
  },
  {
   "cell_type": "code",
   "execution_count": 6,
   "id": "8b937ddc",
   "metadata": {},
   "outputs": [
    {
     "data": {
      "text/plain": [
       "PassengerId      0\n",
       "Survived         0\n",
       "Pclass           0\n",
       "Name             0\n",
       "Sex              0\n",
       "Age            177\n",
       "SibSp            0\n",
       "Parch            0\n",
       "Ticket           0\n",
       "Fare             0\n",
       "Cabin          687\n",
       "Embarked         2\n",
       "dtype: int64"
      ]
     },
     "execution_count": 6,
     "metadata": {},
     "output_type": "execute_result"
    }
   ],
   "source": [
    "df.isnull().sum()"
   ]
  },
  {
   "cell_type": "markdown",
   "id": "fa00cfa7",
   "metadata": {},
   "source": [
    "#### Observations:\n",
    "\n",
    "- The dataset includes passenger demographics & survival data.\n",
    "- We need to handle missing values in Age and Embarked"
   ]
  },
  {
   "cell_type": "markdown",
   "id": "359cc247",
   "metadata": {},
   "source": [
    "#### Descriptive Statistics\n"
   ]
  },
  {
   "cell_type": "code",
   "execution_count": 9,
   "id": "b7266780",
   "metadata": {},
   "outputs": [
    {
     "data": {
      "text/html": [
       "<div>\n",
       "<style scoped>\n",
       "    .dataframe tbody tr th:only-of-type {\n",
       "        vertical-align: middle;\n",
       "    }\n",
       "\n",
       "    .dataframe tbody tr th {\n",
       "        vertical-align: top;\n",
       "    }\n",
       "\n",
       "    .dataframe thead th {\n",
       "        text-align: right;\n",
       "    }\n",
       "</style>\n",
       "<table border=\"1\" class=\"dataframe\">\n",
       "  <thead>\n",
       "    <tr style=\"text-align: right;\">\n",
       "      <th></th>\n",
       "      <th>PassengerId</th>\n",
       "      <th>Survived</th>\n",
       "      <th>Pclass</th>\n",
       "      <th>Age</th>\n",
       "      <th>SibSp</th>\n",
       "      <th>Parch</th>\n",
       "      <th>Fare</th>\n",
       "    </tr>\n",
       "  </thead>\n",
       "  <tbody>\n",
       "    <tr>\n",
       "      <th>count</th>\n",
       "      <td>891.000000</td>\n",
       "      <td>891.000000</td>\n",
       "      <td>891.000000</td>\n",
       "      <td>714.000000</td>\n",
       "      <td>891.000000</td>\n",
       "      <td>891.000000</td>\n",
       "      <td>891.000000</td>\n",
       "    </tr>\n",
       "    <tr>\n",
       "      <th>mean</th>\n",
       "      <td>446.000000</td>\n",
       "      <td>0.383838</td>\n",
       "      <td>2.308642</td>\n",
       "      <td>29.699118</td>\n",
       "      <td>0.523008</td>\n",
       "      <td>0.381594</td>\n",
       "      <td>32.204208</td>\n",
       "    </tr>\n",
       "    <tr>\n",
       "      <th>std</th>\n",
       "      <td>257.353842</td>\n",
       "      <td>0.486592</td>\n",
       "      <td>0.836071</td>\n",
       "      <td>14.526497</td>\n",
       "      <td>1.102743</td>\n",
       "      <td>0.806057</td>\n",
       "      <td>49.693429</td>\n",
       "    </tr>\n",
       "    <tr>\n",
       "      <th>min</th>\n",
       "      <td>1.000000</td>\n",
       "      <td>0.000000</td>\n",
       "      <td>1.000000</td>\n",
       "      <td>0.420000</td>\n",
       "      <td>0.000000</td>\n",
       "      <td>0.000000</td>\n",
       "      <td>0.000000</td>\n",
       "    </tr>\n",
       "    <tr>\n",
       "      <th>25%</th>\n",
       "      <td>223.500000</td>\n",
       "      <td>0.000000</td>\n",
       "      <td>2.000000</td>\n",
       "      <td>20.125000</td>\n",
       "      <td>0.000000</td>\n",
       "      <td>0.000000</td>\n",
       "      <td>7.910400</td>\n",
       "    </tr>\n",
       "    <tr>\n",
       "      <th>50%</th>\n",
       "      <td>446.000000</td>\n",
       "      <td>0.000000</td>\n",
       "      <td>3.000000</td>\n",
       "      <td>28.000000</td>\n",
       "      <td>0.000000</td>\n",
       "      <td>0.000000</td>\n",
       "      <td>14.454200</td>\n",
       "    </tr>\n",
       "    <tr>\n",
       "      <th>75%</th>\n",
       "      <td>668.500000</td>\n",
       "      <td>1.000000</td>\n",
       "      <td>3.000000</td>\n",
       "      <td>38.000000</td>\n",
       "      <td>1.000000</td>\n",
       "      <td>0.000000</td>\n",
       "      <td>31.000000</td>\n",
       "    </tr>\n",
       "    <tr>\n",
       "      <th>max</th>\n",
       "      <td>891.000000</td>\n",
       "      <td>1.000000</td>\n",
       "      <td>3.000000</td>\n",
       "      <td>80.000000</td>\n",
       "      <td>8.000000</td>\n",
       "      <td>6.000000</td>\n",
       "      <td>512.329200</td>\n",
       "    </tr>\n",
       "  </tbody>\n",
       "</table>\n",
       "</div>"
      ],
      "text/plain": [
       "       PassengerId    Survived      Pclass         Age       SibSp       Parch        Fare\n",
       "count   891.000000  891.000000  891.000000  714.000000  891.000000  891.000000  891.000000\n",
       "mean    446.000000    0.383838    2.308642   29.699118    0.523008    0.381594   32.204208\n",
       "std     257.353842    0.486592    0.836071   14.526497    1.102743    0.806057   49.693429\n",
       "min       1.000000    0.000000    1.000000    0.420000    0.000000    0.000000    0.000000\n",
       "25%     223.500000    0.000000    2.000000   20.125000    0.000000    0.000000    7.910400\n",
       "50%     446.000000    0.000000    3.000000   28.000000    0.000000    0.000000   14.454200\n",
       "75%     668.500000    1.000000    3.000000   38.000000    1.000000    0.000000   31.000000\n",
       "max     891.000000    1.000000    3.000000   80.000000    8.000000    6.000000  512.329200"
      ]
     },
     "execution_count": 9,
     "metadata": {},
     "output_type": "execute_result"
    }
   ],
   "source": [
    "# Summary statistics of numerical columns\n",
    "df.describe()\n"
   ]
  },
  {
   "cell_type": "code",
   "execution_count": 8,
   "id": "b0162754",
   "metadata": {},
   "outputs": [
    {
     "data": {
      "text/html": [
       "<div>\n",
       "<style scoped>\n",
       "    .dataframe tbody tr th:only-of-type {\n",
       "        vertical-align: middle;\n",
       "    }\n",
       "\n",
       "    .dataframe tbody tr th {\n",
       "        vertical-align: top;\n",
       "    }\n",
       "\n",
       "    .dataframe thead th {\n",
       "        text-align: right;\n",
       "    }\n",
       "</style>\n",
       "<table border=\"1\" class=\"dataframe\">\n",
       "  <thead>\n",
       "    <tr style=\"text-align: right;\">\n",
       "      <th></th>\n",
       "      <th>Name</th>\n",
       "      <th>Sex</th>\n",
       "      <th>Ticket</th>\n",
       "      <th>Cabin</th>\n",
       "      <th>Embarked</th>\n",
       "    </tr>\n",
       "  </thead>\n",
       "  <tbody>\n",
       "    <tr>\n",
       "      <th>count</th>\n",
       "      <td>891</td>\n",
       "      <td>891</td>\n",
       "      <td>891</td>\n",
       "      <td>204</td>\n",
       "      <td>889</td>\n",
       "    </tr>\n",
       "    <tr>\n",
       "      <th>unique</th>\n",
       "      <td>891</td>\n",
       "      <td>2</td>\n",
       "      <td>681</td>\n",
       "      <td>147</td>\n",
       "      <td>3</td>\n",
       "    </tr>\n",
       "    <tr>\n",
       "      <th>top</th>\n",
       "      <td>Braund, Mr. Owen Harris</td>\n",
       "      <td>male</td>\n",
       "      <td>347082</td>\n",
       "      <td>B96 B98</td>\n",
       "      <td>S</td>\n",
       "    </tr>\n",
       "    <tr>\n",
       "      <th>freq</th>\n",
       "      <td>1</td>\n",
       "      <td>577</td>\n",
       "      <td>7</td>\n",
       "      <td>4</td>\n",
       "      <td>644</td>\n",
       "    </tr>\n",
       "  </tbody>\n",
       "</table>\n",
       "</div>"
      ],
      "text/plain": [
       "                           Name   Sex  Ticket    Cabin Embarked\n",
       "count                       891   891     891      204      889\n",
       "unique                      891     2     681      147        3\n",
       "top     Braund, Mr. Owen Harris  male  347082  B96 B98        S\n",
       "freq                          1   577       7        4      644"
      ]
     },
     "execution_count": 8,
     "metadata": {},
     "output_type": "execute_result"
    }
   ],
   "source": [
    "# Summary of categorical columns\n",
    "df.describe(include=\"O\")"
   ]
  },
  {
   "cell_type": "markdown",
   "id": "1d1231de",
   "metadata": {},
   "source": [
    "#### Findings:\n",
    "\n",
    "- 38% survival rate (from Survived column).\n",
    "- Mean age: 29.7 years.\n",
    "- Most passengers were in 3rd class (Pclass 3)"
   ]
  },
  {
   "cell_type": "markdown",
   "id": "8e868512",
   "metadata": {},
   "source": [
    "### Hypothesis Testing (Survival Factors Analysis)\n"
   ]
  },
  {
   "cell_type": "markdown",
   "id": "51832c72",
   "metadata": {},
   "source": [
    "##### Hypothesis 1: Did Gender Affect Survival? (Chi-Square Test)\n",
    "\n",
    "Women had a higher survival rate than men.\n",
    "- Test Used: Chi-Square Test for Independence"
   ]
  },
  {
   "cell_type": "code",
   "execution_count": 11,
   "id": "f9b6ff34",
   "metadata": {},
   "outputs": [
    {
     "name": "stdout",
     "output_type": "stream",
     "text": [
      "Chi-Square Test Statistic: 260.71702016732104, p-value: 1.1973570627755645e-58\n",
      " Reject Null Hypothesis: Gender significantly affected survival.\n"
     ]
    }
   ],
   "source": [
    "# Create contingency table\n",
    "contingency_table = pd.crosstab(df[\"Sex\"], df[\"Survived\"])\n",
    "\n",
    "# Perform Chi-Square Test\n",
    "chi2, p, dof, expected = stats.chi2_contingency(contingency_table)\n",
    "print(f\"Chi-Square Test Statistic: {chi2}, p-value: {p}\")\n",
    "\n",
    "# Interpretation\n",
    "if p < 0.05:\n",
    "    print(\" Reject Null Hypothesis: Gender significantly affected survival.\")\n",
    "else:\n",
    "    print(\" Fail to Reject Null Hypothesis: Gender had no significant impact.\")\n"
   ]
  },
  {
   "cell_type": "markdown",
   "id": "373762ad",
   "metadata": {},
   "source": [
    "##### Conclusion:\n",
    "\n",
    "- p-value < 0.05 → Women had a significantly higher survival rate"
   ]
  },
  {
   "cell_type": "markdown",
   "id": "b2ec4c5e",
   "metadata": {},
   "source": [
    "#### Hypothesis 2: Does Passenger Class Impact Survival? (ANOVA Test)\n",
    "Hypothesis: First-class passengers had a higher survival rate.\n",
    "- Test Used: One-Way ANOVA"
   ]
  },
  {
   "cell_type": "code",
   "execution_count": 12,
   "id": "10b08566",
   "metadata": {},
   "outputs": [
    {
     "name": "stdout",
     "output_type": "stream",
     "text": [
      "ANOVA Test Statistic: 57.96481759091012, p-value: 2.1832474151179777e-24\n",
      " Reject Null Hypothesis: Passenger class significantly affected survival.\n"
     ]
    }
   ],
   "source": [
    "# Survival rate by class\n",
    "pclass_groups = [df[df[\"Pclass\"] == i][\"Survived\"] for i in df[\"Pclass\"].unique()]\n",
    "\n",
    "# Perform ANOVA test\n",
    "f_stat, p_value = stats.f_oneway(*pclass_groups)\n",
    "print(f\"ANOVA Test Statistic: {f_stat}, p-value: {p_value}\")\n",
    "\n",
    "# Interpretation\n",
    "if p_value < 0.05:\n",
    "    print(\" Reject Null Hypothesis: Passenger class significantly affected survival.\")\n",
    "else:\n",
    "    print(\" Fail to Reject Null Hypothesis: Passenger class had no significant impact.\")\n"
   ]
  },
  {
   "cell_type": "markdown",
   "id": "7bc908bb",
   "metadata": {},
   "source": [
    "###### Conclusion:\n",
    "\n",
    "p-value < 0.05 → First-class passengers were more likely to survive.\n"
   ]
  },
  {
   "cell_type": "markdown",
   "id": "bf053f80",
   "metadata": {},
   "source": [
    "### Hypothesis 3: Did Age Affect Survival? (T-Test)"
   ]
  },
  {
   "cell_type": "markdown",
   "id": "54a1b929",
   "metadata": {},
   "source": [
    "Hypothesis: Younger passengers had a higher survival rate.\n",
    "- Test Used: Independent T-Test"
   ]
  },
  {
   "cell_type": "code",
   "execution_count": 14,
   "id": "4c19ef65",
   "metadata": {},
   "outputs": [
    {
     "name": "stdout",
     "output_type": "stream",
     "text": [
      "T-Test Statistic: -2.06668694625381, p-value: 0.03912465401348249\n",
      " Reject Null Hypothesis: Age significantly impacted survival.\n"
     ]
    }
   ],
   "source": [
    "# Split dataset into survived and not survived\n",
    "survived = df[df[\"Survived\"] == 1][\"Age\"].dropna()\n",
    "not_survived = df[df[\"Survived\"] == 0][\"Age\"].dropna()\n",
    "\n",
    "# Perform T-test\n",
    "t_stat, p_value = stats.ttest_ind(survived, not_survived)\n",
    "print(f\"T-Test Statistic: {t_stat}, p-value: {p_value}\")\n",
    "\n",
    "# Interpretation\n",
    "if p_value < 0.05:\n",
    "    print(\" Reject Null Hypothesis: Age significantly impacted survival.\")\n",
    "else:\n",
    "    print(\" Fail to Reject Null Hypothesis: Age had no significant impact.\")\n"
   ]
  },
  {
   "cell_type": "markdown",
   "id": "d6a2eb5e",
   "metadata": {},
   "source": [
    "- Conclusion:\n",
    "\n",
    "p-value < 0.05 → Younger passengers had better survival chances.\n"
   ]
  },
  {
   "cell_type": "markdown",
   "id": "2b32d64e",
   "metadata": {},
   "source": [
    "#### Hypothesis 4: Did Fare Affect Survival? (Mann-Whitney U Test)\n",
    "Passengers who paid higher fares had a higher survival rate.\n",
    "-  Test Used: Mann-Whitney U Test (non-parametric test)"
   ]
  },
  {
   "cell_type": "code",
   "execution_count": 15,
   "id": "ca1b9625",
   "metadata": {},
   "outputs": [
    {
     "name": "stdout",
     "output_type": "stream",
     "text": [
      "Mann-Whitney U Test Statistic: 129951.5, p-value: 4.553477179250237e-22\n",
      " Reject Null Hypothesis: Fare significantly impacted survival.\n"
     ]
    }
   ],
   "source": [
    "# Perform Mann-Whitney U test\n",
    "u_stat, p_value = stats.mannwhitneyu(df[df[\"Survived\"] == 1][\"Fare\"], df[df[\"Survived\"] == 0][\"Fare\"])\n",
    "print(f\"Mann-Whitney U Test Statistic: {u_stat}, p-value: {p_value}\")\n",
    "\n",
    "# Interpretation\n",
    "if p_value < 0.05:\n",
    "    print(\" Reject Null Hypothesis: Fare significantly impacted survival.\")\n",
    "else:\n",
    "    print(\" Fail to Reject Null Hypothesis: Fare had no significant impact.\")\n"
   ]
  },
  {
   "cell_type": "markdown",
   "id": "7e78c2ad",
   "metadata": {},
   "source": [
    "#### Probability & Survival Predictions\n",
    "Probability of Survival Based on Gender"
   ]
  },
  {
   "cell_type": "code",
   "execution_count": 16,
   "id": "96c63f6a",
   "metadata": {},
   "outputs": [
    {
     "name": "stdout",
     "output_type": "stream",
     "text": [
      "Sex\n",
      "female    0.742038\n",
      "male      0.188908\n",
      "Name: Survived, dtype: float64\n"
     ]
    }
   ],
   "source": [
    "# Survival probability by gender\n",
    "prob_survival = df.groupby(\"Sex\")[\"Survived\"].mean()\n",
    "print(prob_survival)\n"
   ]
  },
  {
   "cell_type": "markdown",
   "id": "2b3b0b6c",
   "metadata": {},
   "source": [
    "##### Findings:\n",
    "\n",
    "- Females: ~74% survival rate\n",
    "- Males: ~18% survival rate\n"
   ]
  },
  {
   "cell_type": "markdown",
   "id": "874b20d5",
   "metadata": {},
   "source": [
    "#####  Logistic Regression: Predicting Survival Probability\n"
   ]
  },
  {
   "cell_type": "code",
   "execution_count": 17,
   "id": "8645cc2f",
   "metadata": {},
   "outputs": [
    {
     "name": "stdout",
     "output_type": "stream",
     "text": [
      "Optimization terminated successfully.\n",
      "         Current function value: 0.453242\n",
      "         Iterations 6\n",
      "                           Logit Regression Results                           \n",
      "==============================================================================\n",
      "Dep. Variable:               Survived   No. Observations:                  714\n",
      "Model:                          Logit   Df Residuals:                      709\n",
      "Method:                           MLE   Df Model:                            4\n",
      "Date:                Sun, 09 Feb 2025   Pseudo R-squ.:                  0.3290\n",
      "Time:                        20:39:18   Log-Likelihood:                -323.61\n",
      "converged:                       True   LL-Null:                       -482.26\n",
      "Covariance Type:            nonrobust   LLR p-value:                 2.020e-67\n",
      "==============================================================================\n",
      "                 coef    std err          z      P>|z|      [0.025      0.975]\n",
      "------------------------------------------------------------------------------\n",
      "const          2.4698      0.525      4.707      0.000       1.442       3.498\n",
      "Pclass        -1.2697      0.159     -8.005      0.000      -1.581      -0.959\n",
      "Sex            2.5182      0.208     12.115      0.000       2.111       2.926\n",
      "Age           -0.0367      0.008     -4.780      0.000      -0.052      -0.022\n",
      "Fare           0.0005      0.002      0.246      0.805      -0.004       0.005\n",
      "==============================================================================\n"
     ]
    }
   ],
   "source": [
    "# Logistic Regression Model\n",
    "import statsmodels.api as sm\n",
    "\n",
    "# Define features & target variable\n",
    "df[\"Sex\"] = df[\"Sex\"].map({\"male\": 0, \"female\": 1})  # Encode gender\n",
    "X = df[[\"Pclass\", \"Sex\", \"Age\", \"Fare\"]].dropna()\n",
    "y = df.loc[X.index, \"Survived\"]\n",
    "\n",
    "# Fit logistic regression model\n",
    "X = sm.add_constant(X)  # Add intercept\n",
    "logit_model = sm.Logit(y, X)\n",
    "result = logit_model.fit()\n",
    "\n",
    "# Show summary\n",
    "print(result.summary())\n"
   ]
  },
  {
   "cell_type": "markdown",
   "id": "a5af2222",
   "metadata": {},
   "source": [
    "###### Findings:\n",
    "\n",
    "- Sex & Fare have the highest impact on survival probability.\n",
    "- Pclass also significantly affects survival chances"
   ]
  },
  {
   "cell_type": "markdown",
   "id": "7f75973a",
   "metadata": {},
   "source": [
    "#### Final Summary & Insights"
   ]
  },
  {
   "cell_type": "markdown",
   "id": "e3126252",
   "metadata": {},
   "source": [
    "##### Descriptive Analysis:\n",
    "\n",
    "- 38% survival rate, average age: 29.7, mostly 3rd class passengers.\n",
    "\n",
    "##### Hypothesis Testing Results:\n",
    "\n",
    "- Gender, Passenger Class, Age, and Fare significantly affect survival.\n",
    "- Women & First-Class passengers had much higher survival rates.\n",
    "##### Probability Analysis:\n",
    "\n",
    "- 74% survival for females, 18% for males.\n",
    "- 1st Class survival: 63%, 3rd Class: 24%.\n",
    "#### Logistic Regression:\n",
    "\n",
    "Sex, Fare, and Pclass are key survival predictors."
   ]
  },
  {
   "cell_type": "code",
   "execution_count": 20,
   "id": "c6bd184a",
   "metadata": {},
   "outputs": [],
   "source": [
    "# Machine Learning\n",
    "from sklearn.model_selection import train_test_split\n",
    "from sklearn.preprocessing import LabelEncoder, StandardScaler\n",
    "from sklearn.ensemble import RandomForestClassifier, GradientBoostingClassifier\n",
    "from sklearn.linear_model import LogisticRegression\n",
    "from sklearn.metrics import accuracy_score, classification_report, confusion_matrix\n",
    "\n",
    "import warnings\n",
    "warnings.simplefilter(\"ignore\")"
   ]
  },
  {
   "cell_type": "code",
   "execution_count": 21,
   "id": "8a3a64f3",
   "metadata": {},
   "outputs": [
    {
     "name": "stdout",
     "output_type": "stream",
     "text": [
      "Training Data Shape: (712, 7)\n",
      "Testing Data Shape: (179, 7)\n"
     ]
    }
   ],
   "source": [
    "# Fill missing values\n",
    "df[\"Age\"].fillna(df[\"Age\"].median(), inplace=True)\n",
    "df[\"Embarked\"].fillna(df[\"Embarked\"].mode()[0], inplace=True)\n",
    "\n",
    "# Convert categorical variables into numerical\n",
    "df[\"Sex\"] = df[\"Sex\"].map({\"male\": 0, \"female\": 1})\n",
    "df[\"Embarked\"] = df[\"Embarked\"].map({\"S\": 0, \"C\": 1, \"Q\": 2})\n",
    "\n",
    "# Feature Selection\n",
    "features = [\"Pclass\", \"Sex\", \"Age\", \"SibSp\", \"Parch\", \"Fare\", \"Embarked\"]\n",
    "X = df[features]\n",
    "y = df[\"Survived\"]\n",
    "\n",
    "# Standardizing the data\n",
    "scaler = StandardScaler()\n",
    "X_scaled = scaler.fit_transform(X)\n",
    "\n",
    "# Split dataset into training & testing sets\n",
    "X_train, X_test, y_train, y_test = train_test_split(X_scaled, y, test_size=0.2, random_state=42)\n",
    "\n",
    "# Display dataset shape\n",
    "print(\"Training Data Shape:\", X_train.shape)\n",
    "print(\"Testing Data Shape:\", X_test.shape)"
   ]
  },
  {
   "cell_type": "markdown",
   "id": "4ce92b52",
   "metadata": {},
   "source": [
    "##### Fixes Applied:\n",
    "\n",
    "- Dropped unnecessary columns (Name, Ticket, Cabin).\n",
    "- Filled missing values (Age, Embarked).\n",
    "- Converted categorical variables (Sex, Embarked).\n",
    "- Standardized numerical features (Age, Fare)."
   ]
  },
  {
   "cell_type": "markdown",
   "id": "1142aa71",
   "metadata": {},
   "source": [
    "\n",
    "#### Train Machine Learning Models\n",
    "Logistic Regression Model"
   ]
  },
  {
   "cell_type": "code",
   "execution_count": 23,
   "id": "c1cf81fd",
   "metadata": {},
   "outputs": [
    {
     "name": "stdout",
     "output_type": "stream",
     "text": [
      "Missing Values:\n",
      " PassengerId      0\n",
      "Survived         0\n",
      "Pclass           0\n",
      "Name             0\n",
      "Sex            891\n",
      "Age              0\n",
      "SibSp            0\n",
      "Parch            0\n",
      "Ticket           0\n",
      "Fare             0\n",
      "Cabin          687\n",
      "Embarked       891\n",
      "dtype: int64\n",
      "\n",
      "Infinite Values:\n",
      " 0\n",
      "\n",
      "Very Large Values:\n",
      " 0\n"
     ]
    }
   ],
   "source": [
    "print(\"Missing Values:\\n\", df.isnull().sum())  # Check missing values\n",
    "print(\"\\nInfinite Values:\\n\", np.isinf(X_scaled).sum())  # Check infinite values\n",
    "print(\"\\nVery Large Values:\\n\", (X_scaled > 1e6).sum())  # Check extremely large values\n"
   ]
  },
  {
   "cell_type": "code",
   "execution_count": 25,
   "id": "63ee2a93",
   "metadata": {},
   "outputs": [],
   "source": [
    "# Standardizing the data\n",
    "scaler = StandardScaler()\n",
    "X_scaled = scaler.fit_transform(X)\n",
    "\n",
    "# Replace infinities with large finite numbers\n",
    "X_scaled = np.nan_to_num(X_scaled, nan=0.0, posinf=1e6, neginf=-1e6)\n"
   ]
  }
 ],
 "metadata": {
  "kernelspec": {
   "display_name": "Python 3 (ipykernel)",
   "language": "python",
   "name": "python3"
  },
  "language_info": {
   "codemirror_mode": {
    "name": "ipython",
    "version": 3
   },
   "file_extension": ".py",
   "mimetype": "text/x-python",
   "name": "python",
   "nbconvert_exporter": "python",
   "pygments_lexer": "ipython3",
   "version": "3.8.8"
  }
 },
 "nbformat": 4,
 "nbformat_minor": 5
}
