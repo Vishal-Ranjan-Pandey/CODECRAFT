{
 "cells": [
  {
   "cell_type": "markdown",
   "id": "3ca99e09",
   "metadata": {},
   "source": [
    "### Import Libraries & Load Data"
   ]
  },
  {
   "cell_type": "code",
   "execution_count": 1,
   "id": "b1c2eb70",
   "metadata": {},
   "outputs": [
    {
     "data": {
      "text/html": [
       "<div>\n",
       "<style scoped>\n",
       "    .dataframe tbody tr th:only-of-type {\n",
       "        vertical-align: middle;\n",
       "    }\n",
       "\n",
       "    .dataframe tbody tr th {\n",
       "        vertical-align: top;\n",
       "    }\n",
       "\n",
       "    .dataframe thead th {\n",
       "        text-align: right;\n",
       "    }\n",
       "</style>\n",
       "<table border=\"1\" class=\"dataframe\">\n",
       "  <thead>\n",
       "    <tr style=\"text-align: right;\">\n",
       "      <th></th>\n",
       "      <th>PassengerId</th>\n",
       "      <th>Survived</th>\n",
       "      <th>Pclass</th>\n",
       "      <th>Name</th>\n",
       "      <th>Sex</th>\n",
       "      <th>Age</th>\n",
       "      <th>SibSp</th>\n",
       "      <th>Parch</th>\n",
       "      <th>Ticket</th>\n",
       "      <th>Fare</th>\n",
       "      <th>Cabin</th>\n",
       "      <th>Embarked</th>\n",
       "    </tr>\n",
       "  </thead>\n",
       "  <tbody>\n",
       "    <tr>\n",
       "      <th>0</th>\n",
       "      <td>1</td>\n",
       "      <td>0</td>\n",
       "      <td>3</td>\n",
       "      <td>Braund, Mr. Owen Harris</td>\n",
       "      <td>male</td>\n",
       "      <td>22.0</td>\n",
       "      <td>1</td>\n",
       "      <td>0</td>\n",
       "      <td>A/5 21171</td>\n",
       "      <td>7.2500</td>\n",
       "      <td>NaN</td>\n",
       "      <td>S</td>\n",
       "    </tr>\n",
       "    <tr>\n",
       "      <th>1</th>\n",
       "      <td>2</td>\n",
       "      <td>1</td>\n",
       "      <td>1</td>\n",
       "      <td>Cumings, Mrs. John Bradley (Florence Briggs Th...</td>\n",
       "      <td>female</td>\n",
       "      <td>38.0</td>\n",
       "      <td>1</td>\n",
       "      <td>0</td>\n",
       "      <td>PC 17599</td>\n",
       "      <td>71.2833</td>\n",
       "      <td>C85</td>\n",
       "      <td>C</td>\n",
       "    </tr>\n",
       "    <tr>\n",
       "      <th>2</th>\n",
       "      <td>3</td>\n",
       "      <td>1</td>\n",
       "      <td>3</td>\n",
       "      <td>Heikkinen, Miss. Laina</td>\n",
       "      <td>female</td>\n",
       "      <td>26.0</td>\n",
       "      <td>0</td>\n",
       "      <td>0</td>\n",
       "      <td>STON/O2. 3101282</td>\n",
       "      <td>7.9250</td>\n",
       "      <td>NaN</td>\n",
       "      <td>S</td>\n",
       "    </tr>\n",
       "    <tr>\n",
       "      <th>3</th>\n",
       "      <td>4</td>\n",
       "      <td>1</td>\n",
       "      <td>1</td>\n",
       "      <td>Futrelle, Mrs. Jacques Heath (Lily May Peel)</td>\n",
       "      <td>female</td>\n",
       "      <td>35.0</td>\n",
       "      <td>1</td>\n",
       "      <td>0</td>\n",
       "      <td>113803</td>\n",
       "      <td>53.1000</td>\n",
       "      <td>C123</td>\n",
       "      <td>S</td>\n",
       "    </tr>\n",
       "    <tr>\n",
       "      <th>4</th>\n",
       "      <td>5</td>\n",
       "      <td>0</td>\n",
       "      <td>3</td>\n",
       "      <td>Allen, Mr. William Henry</td>\n",
       "      <td>male</td>\n",
       "      <td>35.0</td>\n",
       "      <td>0</td>\n",
       "      <td>0</td>\n",
       "      <td>373450</td>\n",
       "      <td>8.0500</td>\n",
       "      <td>NaN</td>\n",
       "      <td>S</td>\n",
       "    </tr>\n",
       "  </tbody>\n",
       "</table>\n",
       "</div>"
      ],
      "text/plain": [
       "   PassengerId  Survived  Pclass  \\\n",
       "0            1         0       3   \n",
       "1            2         1       1   \n",
       "2            3         1       3   \n",
       "3            4         1       1   \n",
       "4            5         0       3   \n",
       "\n",
       "                                                Name     Sex   Age  SibSp  \\\n",
       "0                            Braund, Mr. Owen Harris    male  22.0      1   \n",
       "1  Cumings, Mrs. John Bradley (Florence Briggs Th...  female  38.0      1   \n",
       "2                             Heikkinen, Miss. Laina  female  26.0      0   \n",
       "3       Futrelle, Mrs. Jacques Heath (Lily May Peel)  female  35.0      1   \n",
       "4                           Allen, Mr. William Henry    male  35.0      0   \n",
       "\n",
       "   Parch            Ticket     Fare Cabin Embarked  \n",
       "0      0         A/5 21171   7.2500   NaN        S  \n",
       "1      0          PC 17599  71.2833   C85        C  \n",
       "2      0  STON/O2. 3101282   7.9250   NaN        S  \n",
       "3      0            113803  53.1000  C123        S  \n",
       "4      0            373450   8.0500   NaN        S  "
      ]
     },
     "execution_count": 1,
     "metadata": {},
     "output_type": "execute_result"
    }
   ],
   "source": [
    "# Import necessary libraries\n",
    "import pandas as pd\n",
    "import numpy as np\n",
    "import matplotlib.pyplot as plt\n",
    "import seaborn as sns\n",
    "\n",
    "# Load the Titanic dataset (Update the file path if needed)\n",
    "df = pd.read_csv(\"train.csv\")\n",
    "\n",
    "# Display the first five rows\n",
    "df.head()\n"
   ]
  },
  {
   "cell_type": "markdown",
   "id": "4d599240",
   "metadata": {},
   "source": [
    "### Data Cleaning"
   ]
  },
  {
   "cell_type": "code",
   "execution_count": 2,
   "id": "80d7f690",
   "metadata": {},
   "outputs": [
    {
     "name": "stdout",
     "output_type": "stream",
     "text": [
      "PassengerId      0\n",
      "Survived         0\n",
      "Pclass           0\n",
      "Name             0\n",
      "Sex              0\n",
      "Age            177\n",
      "SibSp            0\n",
      "Parch            0\n",
      "Ticket           0\n",
      "Fare             0\n",
      "Cabin          687\n",
      "Embarked         2\n",
      "dtype: int64\n",
      "PassengerId    0\n",
      "Survived       0\n",
      "Pclass         0\n",
      "Name           0\n",
      "Sex            0\n",
      "Age            0\n",
      "SibSp          0\n",
      "Parch          0\n",
      "Ticket         0\n",
      "Fare           0\n",
      "Embarked       0\n",
      "dtype: int64\n"
     ]
    }
   ],
   "source": [
    "# Check for missing values\n",
    "print(df.isnull().sum())\n",
    "\n",
    "# Fill missing 'Age' values with the median age\n",
    "df[\"Age\"].fillna(df[\"Age\"].median(), inplace=True)\n",
    "\n",
    "# Fill missing 'Embarked' values with the most common port\n",
    "df[\"Embarked\"].fillna(df[\"Embarked\"].mode()[0], inplace=True)\n",
    "\n",
    "# Drop 'Cabin' column (too many missing values)\n",
    "df.drop(columns=[\"Cabin\"], inplace=True)\n",
    "\n",
    "# Verify that missing values are handled\n",
    "print(df.isnull().sum())\n"
   ]
  },
  {
   "cell_type": "markdown",
   "id": "8d996fdc",
   "metadata": {},
   "source": [
    "### Fixes:\n",
    "\n",
    "- Filled missing ‘Age’ values with the median.\n",
    "- Replaced missing ‘Embarked’ values with the most common port.\n",
    "- Dropped ‘Cabin’ since too many values were missing."
   ]
  },
  {
   "cell_type": "markdown",
   "id": "2e49b9fc",
   "metadata": {},
   "source": [
    "## Exploratory Data Analysis (EDA)\n",
    "- We analyze variable distributions and relationships."
   ]
  },
  {
   "cell_type": "markdown",
   "id": "420003db",
   "metadata": {},
   "source": [
    "###  Basic Data Summary"
   ]
  },
  {
   "cell_type": "code",
   "execution_count": 3,
   "id": "e4d46635",
   "metadata": {},
   "outputs": [
    {
     "name": "stdout",
     "output_type": "stream",
     "text": [
      "       PassengerId    Survived      Pclass         Age       SibSp  \\\n",
      "count   891.000000  891.000000  891.000000  891.000000  891.000000   \n",
      "mean    446.000000    0.383838    2.308642   29.361582    0.523008   \n",
      "std     257.353842    0.486592    0.836071   13.019697    1.102743   \n",
      "min       1.000000    0.000000    1.000000    0.420000    0.000000   \n",
      "25%     223.500000    0.000000    2.000000   22.000000    0.000000   \n",
      "50%     446.000000    0.000000    3.000000   28.000000    0.000000   \n",
      "75%     668.500000    1.000000    3.000000   35.000000    1.000000   \n",
      "max     891.000000    1.000000    3.000000   80.000000    8.000000   \n",
      "\n",
      "            Parch        Fare  \n",
      "count  891.000000  891.000000  \n",
      "mean     0.381594   32.204208  \n",
      "std      0.806057   49.693429  \n",
      "min      0.000000    0.000000  \n",
      "25%      0.000000    7.910400  \n",
      "50%      0.000000   14.454200  \n",
      "75%      0.000000   31.000000  \n",
      "max      6.000000  512.329200  \n",
      "PassengerId      int64\n",
      "Survived         int64\n",
      "Pclass           int64\n",
      "Name            object\n",
      "Sex             object\n",
      "Age            float64\n",
      "SibSp            int64\n",
      "Parch            int64\n",
      "Ticket          object\n",
      "Fare           float64\n",
      "Embarked        object\n",
      "dtype: object\n",
      "Duplicates: 0\n"
     ]
    }
   ],
   "source": [
    "# Summary statistics\n",
    "print(df.describe())\n",
    "\n",
    "# Check data types\n",
    "print(df.dtypes)\n",
    "\n",
    "# Check for duplicate values\n",
    "print(\"Duplicates:\", df.duplicated().sum())\n"
   ]
  },
  {
   "cell_type": "markdown",
   "id": "b3cddb14",
   "metadata": {},
   "source": [
    "### Findings:\n",
    "\n",
    "- Average age: ~29.4 years\n",
    "- Most passengers were in 3rd class (Pclass 3)"
   ]
  },
  {
   "cell_type": "markdown",
   "id": "96d15a18",
   "metadata": {},
   "source": [
    "### Survival Rate Analysis"
   ]
  },
  {
   "cell_type": "code",
   "execution_count": 4,
   "id": "0d611349",
   "metadata": {},
   "outputs": [
    {
     "name": "stdout",
     "output_type": "stream",
     "text": [
      "Overall Survival Rate: 38.38%\n"
     ]
    },
    {
     "data": {
      "image/png": "[encoded data removed]",
      "text/plain": [
       "<Figure size 432x288 with 1 Axes>"
      ]
     },
     "metadata": {
      "needs_background": "light"
     },
     "output_type": "display_data"
    }
   ],
   "source": [
    "# Overall survival rate\n",
    "survival_rate = df[\"Survived\"].mean()\n",
    "print(f\"Overall Survival Rate: {survival_rate * 100:.2f}%\")\n",
    "\n",
    "# Countplot for survival\n",
    "sns.countplot(x=\"Survived\", data=df, palette=\"coolwarm\")\n",
    "plt.title(\"Survival Count\")\n",
    "plt.show()\n"
   ]
  },
  {
   "cell_type": "markdown",
   "id": "7cce0fa1",
   "metadata": {},
   "source": [
    "### Findings:\n",
    "\n",
    "- ~38% of passengers survived.\n",
    "- More passengers died than survived."
   ]
  },
  {
   "cell_type": "markdown",
   "id": "ee1fafd4",
   "metadata": {},
   "source": [
    "### Survival by Gender"
   ]
  },
  {
   "cell_type": "code",
   "execution_count": 5,
   "id": "3f4fa3e3",
   "metadata": {},
   "outputs": [
    {
     "data": {
      "image/png": "[encoded data removed]",
      "text/plain": [
       "<Figure size 432x288 with 1 Axes>"
      ]
     },
     "metadata": {
      "needs_background": "light"
     },
     "output_type": "display_data"
    },
    {
     "name": "stdout",
     "output_type": "stream",
     "text": [
      "Sex\n",
      "female    74.203822\n",
      "male      18.890815\n",
      "Name: Survived, dtype: float64\n"
     ]
    }
   ],
   "source": [
    "# Compare survival rates by gender\n",
    "sns.barplot(x=\"Sex\", y=\"Survived\", data=df, palette=\"viridis\")\n",
    "plt.title(\"Survival Rate by Gender\")\n",
    "plt.show()\n",
    "\n",
    "# Survival percentage\n",
    "print(df.groupby(\"Sex\")[\"Survived\"].mean() * 100)\n"
   ]
  },
  {
   "cell_type": "markdown",
   "id": "e6df5dba",
   "metadata": {},
   "source": [
    "### Findings:\n",
    "\n",
    "- Females had a much higher survival rate ~74% than males ~18%.\n",
    "- \"Women and children first\" policy likely played a role."
   ]
  },
  {
   "cell_type": "markdown",
   "id": "ed082ac5",
   "metadata": {},
   "source": [
    "### Survival by Passenger Class (Pclass)"
   ]
  },
  {
   "cell_type": "code",
   "execution_count": 6,
   "id": "f2153a82",
   "metadata": {},
   "outputs": [
    {
     "data": {
      "image/png": "[encoded data removed]",
      "text/plain": [
       "<Figure size 432x288 with 1 Axes>"
      ]
     },
     "metadata": {
      "needs_background": "light"
     },
     "output_type": "display_data"
    },
    {
     "name": "stdout",
     "output_type": "stream",
     "text": [
      "Pclass\n",
      "1    62.962963\n",
      "2    47.282609\n",
      "3    24.236253\n",
      "Name: Survived, dtype: float64\n"
     ]
    }
   ],
   "source": [
    "# Compare survival rates by class\n",
    "sns.barplot(x=\"Pclass\", y=\"Survived\", data=df, palette=\"muted\")\n",
    "plt.title(\"Survival Rate by Passenger Class\")\n",
    "plt.show()\n",
    "\n",
    "# Survival percentage by class\n",
    "print(df.groupby(\"Pclass\")[\"Survived\"].mean() * 100)\n"
   ]
  },
  {
   "cell_type": "markdown",
   "id": "b822e2b9",
   "metadata": {},
   "source": [
    "### Findings:\n",
    "\n",
    "- First-class passengers had the highest survival rate (~63%).\n",
    "- Third-class passengers had the lowest survival rate (~24%)"
   ]
  },
  {
   "cell_type": "markdown",
   "id": "120d3728",
   "metadata": {},
   "source": [
    "### Age Distribution & Survival by Age"
   ]
  },
  {
   "cell_type": "code",
   "execution_count": 7,
   "id": "b87e419a",
   "metadata": {},
   "outputs": [
    {
     "data": {
      "image/png": "[encoded data removed]",
      "text/plain": [
       "<Figure size 432x288 with 1 Axes>"
      ]
     },
     "metadata": {
      "needs_background": "light"
     },
     "output_type": "display_data"
    },
    {
     "data": {
      "image/png": "[encoded data removed]",
      "text/plain": [
       "<Figure size 720x360 with 1 Axes>"
      ]
     },
     "metadata": {
      "needs_background": "light"
     },
     "output_type": "display_data"
    }
   ],
   "source": [
    "# Histogram of age distribution\n",
    "sns.histplot(df[\"Age\"], bins=30, kde=True, color=\"blue\")\n",
    "plt.title(\"Age Distribution of Passengers\")\n",
    "plt.show()\n",
    "\n",
    "# Age vs. Survival\n",
    "plt.figure(figsize=(10, 5))\n",
    "sns.kdeplot(df[df[\"Survived\"] == 1][\"Age\"], label=\"Survived\", shade=True, color=\"green\")\n",
    "sns.kdeplot(df[df[\"Survived\"] == 0][\"Age\"], label=\"Not Survived\", shade=True, color=\"red\")\n",
    "plt.xlabel(\"Age\")\n",
    "plt.title(\"Survival Rate by Age\")\n",
    "plt.legend()\n",
    "plt.show()\n"
   ]
  },
  {
   "cell_type": "markdown",
   "id": "c0110ec0",
   "metadata": {},
   "source": [
    "### Findings:\n",
    "\n",
    "- Younger passengers had higher survival rates, especially children.\n",
    "- Older passengers had lower survival rates."
   ]
  },
  {
   "cell_type": "markdown",
   "id": "6918866f",
   "metadata": {},
   "source": [
    "###  Survival by Embarked Port"
   ]
  },
  {
   "cell_type": "code",
   "execution_count": 8,
   "id": "75bfe85e",
   "metadata": {},
   "outputs": [
    {
     "data": {
      "image/png": "[encoded data removed]",
      "text/plain": [
       "<Figure size 432x288 with 1 Axes>"
      ]
     },
     "metadata": {
      "needs_background": "light"
     },
     "output_type": "display_data"
    },
    {
     "name": "stdout",
     "output_type": "stream",
     "text": [
      "Embarked\n",
      "C    55.357143\n",
      "Q    38.961039\n",
      "S    33.900929\n",
      "Name: Survived, dtype: float64\n"
     ]
    }
   ],
   "source": [
    "# Survival rate by embarkation point\n",
    "sns.barplot(x=\"Embarked\", y=\"Survived\", data=df, palette=\"magma\")\n",
    "plt.title(\"Survival Rate by Embarkation Port\")\n",
    "plt.show()\n",
    "\n",
    "# Percentage survival\n",
    "print(df.groupby(\"Embarked\")[\"Survived\"].mean() * 100)\n"
   ]
  },
  {
   "cell_type": "markdown",
   "id": "db16fec7",
   "metadata": {},
   "source": [
    "### Findings:\n",
    "\n",
    "- Passengers from ‘C’ (Cherbourg) had the highest survival rate (~55%).\n",
    "- Passengers from ‘S’ (Southampton) had the lowest survival rate (~33%)"
   ]
  },
  {
   "cell_type": "markdown",
   "id": "019242ec",
   "metadata": {},
   "source": [
    "###  Correlation Heatmap"
   ]
  },
  {
   "cell_type": "code",
   "execution_count": 9,
   "id": "f48ac637",
   "metadata": {},
   "outputs": [
    {
     "data": {
      "image/png": "[encoded data removed]",
      "text/plain": [
       "<Figure size 720x432 with 2 Axes>"
      ]
     },
     "metadata": {
      "needs_background": "light"
     },
     "output_type": "display_data"
    }
   ],
   "source": [
    "# Correlation matrix\n",
    "plt.figure(figsize=(10, 6))\n",
    "sns.heatmap(df.corr(), annot=True, cmap=\"coolwarm\", linewidths=0.5)\n",
    "plt.title(\"Feature Correlation Heatmap\")\n",
    "plt.show()\n"
   ]
  },
  {
   "cell_type": "markdown",
   "id": "f43db8a4",
   "metadata": {},
   "source": [
    "### Final Summary & Key Takeaways\n",
    "\n",
    "#### Who survived?\n",
    "\n",
    "- Women had a much higher survival rate (~74%) than men (~18%).\n",
    "- Children (younger passengers) had better survival chances.\n",
    "\n",
    "#### Which class had the highest survival rate?\n",
    "\n",
    "- 1st Class passengers had the highest survival rate (~63%).\n",
    "- 3rd Class passengers had the lowest survival rate (~24%).\n",
    "\n",
    "#### Which factors influenced survival the most?\n",
    "\n",
    "- Sex (Gender) & Pclass were the most significant predictors.\n",
    "- Younger passengers had better chances of survival."
   ]
  },
  {
   "cell_type": "code",
   "execution_count": 10,
   "id": "207e67af",
   "metadata": {},
   "outputs": [],
   "source": [
    "## Scikit-learn for machine learning\n",
    "from sklearn.model_selection import train_test_split\n",
    "from sklearn.preprocessing import LabelEncoder, StandardScaler\n",
    "from sklearn.linear_model import LogisticRegression\n",
    "from sklearn.ensemble import RandomForestClassifier\n",
    "from sklearn.metrics import accuracy_score, classification_report, confusion_matrix"
   ]
  },
  {
   "cell_type": "code",
   "execution_count": 11,
   "id": "adfbb028",
   "metadata": {},
   "outputs": [],
   "source": [
    "# Convert categorical variables into numerical using Label Encoding\n",
    "df[\"Sex\"] = df[\"Sex\"].map({\"male\": 0, \"female\": 1})\n",
    "df[\"Embarked\"] = df[\"Embarked\"].map({\"S\": 0, \"C\": 1, \"Q\": 2})\n",
    "\n",
    "# Feature Selection: Choosing relevant columns for prediction\n",
    "features = [\"Pclass\", \"Sex\", \"Age\", \"SibSp\", \"Parch\", \"Fare\", \"Embarked\"]\n",
    "X = df[features]  # Features\n",
    "y = df[\"Survived\"]  # Target variable\n",
    "\n",
    "# Standardizing the data\n",
    "scaler = StandardScaler()\n",
    "X_scaled = scaler.fit_transform(X)\n",
    "\n",
    "# Split data into Train & Test sets (80% training, 20% testing)\n",
    "X_train, X_test, y_train, y_test = train_test_split(X_scaled, y, test_size=0.2, random_state=42)\n"
   ]
  },
  {
   "cell_type": "markdown",
   "id": "098a3995",
   "metadata": {},
   "source": [
    "### Preprocessing Summary:\n",
    "\n",
    "- Converted categorical data (Sex, Embarked) into numerical.\n",
    "- Handled missing values (Age, Embarked).\n",
    "- Standardized numerical data using StandardScaler.\n",
    "- Split data into training (80%) and testing (20%) sets."
   ]
  },
  {
   "cell_type": "markdown",
   "id": "627067db",
   "metadata": {},
   "source": [
    "### Train & Evaluate Machine Learning Models"
   ]
  },
  {
   "cell_type": "markdown",
   "id": "df216f62",
   "metadata": {},
   "source": [
    "####  Logistic Regression Model"
   ]
  },
  {
   "cell_type": "code",
   "execution_count": 12,
   "id": "25bb172c",
   "metadata": {},
   "outputs": [
    {
     "name": "stdout",
     "output_type": "stream",
     "text": [
      " Logistic Regression Accuracy: 0.7988826815642458\n",
      "\n",
      " Classification Report:\n",
      "               precision    recall  f1-score   support\n",
      "\n",
      "           0       0.82      0.85      0.83       105\n",
      "           1       0.77      0.73      0.75        74\n",
      "\n",
      "    accuracy                           0.80       179\n",
      "   macro avg       0.79      0.79      0.79       179\n",
      "weighted avg       0.80      0.80      0.80       179\n",
      "\n"
     ]
    }
   ],
   "source": [
    "# Train Logistic Regression model\n",
    "log_reg = LogisticRegression()\n",
    "log_reg.fit(X_train, y_train)\n",
    "\n",
    "# Predictions\n",
    "y_pred_log = log_reg.predict(X_test)\n",
    "\n",
    "# Evaluate performance\n",
    "print(\" Logistic Regression Accuracy:\", accuracy_score(y_test, y_pred_log))\n",
    "print(\"\\n Classification Report:\\n\", classification_report(y_test, y_pred_log))\n"
   ]
  },
  {
   "cell_type": "markdown",
   "id": "00290c0e",
   "metadata": {},
   "source": [
    "#### Findings:\n",
    "\n",
    "- Accuracy is typically around 78-82%.\n",
    "- Precision & recall are better for females (higher survival rates).\n"
   ]
  },
  {
   "cell_type": "markdown",
   "id": "d6bc323e",
   "metadata": {},
   "source": [
    "### Random Forest Classifier\n"
   ]
  },
  {
   "cell_type": "code",
   "execution_count": 13,
   "id": "33fe5494",
   "metadata": {},
   "outputs": [
    {
     "name": "stdout",
     "output_type": "stream",
     "text": [
      " Random Forest Accuracy: 0.8212290502793296\n",
      "\n",
      " Classification Report:\n",
      "               precision    recall  f1-score   support\n",
      "\n",
      "           0       0.83      0.87      0.85       105\n",
      "           1       0.80      0.76      0.78        74\n",
      "\n",
      "    accuracy                           0.82       179\n",
      "   macro avg       0.82      0.81      0.81       179\n",
      "weighted avg       0.82      0.82      0.82       179\n",
      "\n"
     ]
    }
   ],
   "source": [
    "# Train Random Forest model\n",
    "rf_clf = RandomForestClassifier(n_estimators=100, random_state=42)\n",
    "rf_clf.fit(X_train, y_train)\n",
    "\n",
    "# Predictions\n",
    "y_pred_rf = rf_clf.predict(X_test)\n",
    "\n",
    "# Evaluate performance\n",
    "print(\" Random Forest Accuracy:\", accuracy_score(y_test, y_pred_rf))\n",
    "print(\"\\n Classification Report:\\n\", classification_report(y_test, y_pred_rf))\n"
   ]
  },
  {
   "cell_type": "markdown",
   "id": "7f3223e5",
   "metadata": {},
   "source": [
    "####  Findings:\n",
    "\n",
    "- Random Forest usually outperforms Logistic Regression (~83-87% accuracy).\n",
    "- More robust at handling complex relationships between features.\n"
   ]
  },
  {
   "cell_type": "markdown",
   "id": "469e81d1",
   "metadata": {},
   "source": [
    "### Feature Importance Analysis"
   ]
  },
  {
   "cell_type": "code",
   "execution_count": 14,
   "id": "0bb9bd7c",
   "metadata": {},
   "outputs": [
    {
     "data": {
      "image/png": "[encoded data removed]",
      "text/plain": [
       "<Figure size 576x360 with 1 Axes>"
      ]
     },
     "metadata": {
      "needs_background": "light"
     },
     "output_type": "display_data"
    }
   ],
   "source": [
    "# Feature importance from Random Forest\n",
    "importance = rf_clf.feature_importances_\n",
    "feature_importance = pd.DataFrame({\"Feature\": features, \"Importance\": importance}).sort_values(by=\"Importance\", ascending=False)\n",
    "\n",
    "# Plot Feature Importance\n",
    "plt.figure(figsize=(8, 5))\n",
    "sns.barplot(x=\"Importance\", y=\"Feature\", data=feature_importance, palette=\"Blues_r\")\n",
    "plt.title(\"Feature Importance in Survival Prediction\")\n",
    "plt.show()\n"
   ]
  },
  {
   "cell_type": "markdown",
   "id": "1bd6e4ec",
   "metadata": {},
   "source": [
    "#### Most Important Features:\n",
    "- Sex (Female passengers had higher survival rates).\n",
    "-  Fare (Higher-paying passengers survived more).\n",
    "- Pclass (1st class had better survival chances)."
   ]
  },
  {
   "cell_type": "markdown",
   "id": "36b12ec0",
   "metadata": {},
   "source": [
    "### Make Predictions on New Data\n"
   ]
  },
  {
   "cell_type": "code",
   "execution_count": 15,
   "id": "bfb49599",
   "metadata": {},
   "outputs": [
    {
     "name": "stdout",
     "output_type": "stream",
     "text": [
      " Predicted Survival (1=Survived, 0=Not Survived): 0\n"
     ]
    }
   ],
   "source": [
    "import warnings\n",
    "warnings.simplefilter(\"ignore\")\n",
    "\n",
    "# Example new passenger data: [Pclass, Sex, Age, SibSp, Parch, Fare, Embarked]\n",
    "new_passenger = np.array([[3, 0, 25, 0, 0, 10, 0]])  # A 25-year-old male in 3rd class\n",
    "new_passenger_scaled = scaler.transform(new_passenger)\n",
    "\n",
    "# Predict survival\n",
    "pred_survival = rf_clf.predict(new_passenger_scaled)\n",
    "\n",
    "# Output prediction\n",
    "print(\" Predicted Survival (1=Survived, 0=Not Survived):\", pred_survival[0])\n"
   ]
  },
  {
   "cell_type": "markdown",
   "id": "59e0b6b3",
   "metadata": {},
   "source": [
    "#### Prediction Interpretation:\n",
    "\n",
    "- 1 → The passenger survived.\n",
    "- 0 → The passenger did not survive."
   ]
  },
  {
   "cell_type": "markdown",
   "id": "263b55a9",
   "metadata": {},
   "source": [
    "### Improving Titanic Survival Prediction Using XGBoost & LightGBM"
   ]
  },
  {
   "cell_type": "code",
   "execution_count": 16,
   "id": "9b3ff04e",
   "metadata": {},
   "outputs": [],
   "source": [
    "# Machine Learning Models\n",
    "from sklearn.model_selection import train_test_split, GridSearchCV\n",
    "from sklearn.preprocessing import LabelEncoder, StandardScaler\n",
    "from sklearn.metrics import accuracy_score, classification_report, confusion_matrix\n",
    "\n",
    "# Gradient Boosting Models\n",
    "from xgboost import XGBClassifier\n",
    "from lightgbm import LGBMClassifier"
   ]
  },
  {
   "cell_type": "markdown",
   "id": "763a400e",
   "metadata": {},
   "source": [
    "### Train & Evaluate XGBoost"
   ]
  },
  {
   "cell_type": "code",
   "execution_count": 17,
   "id": "e59a3386",
   "metadata": {},
   "outputs": [
    {
     "name": "stdout",
     "output_type": "stream",
     "text": [
      "[17:48:02] WARNING: C:/Users/Administrator/workspace/xgboost-win64_release_1.5.0/src/learner.cc:1115: Starting in XGBoost 1.3.0, the default evaluation metric used with the objective 'binary:logistic' was changed from 'error' to 'logloss'. Explicitly set eval_metric if you'd like to restore the old behavior.\n",
      "XGBoost Accuracy: 0.8212290502793296\n",
      "\n",
      " Classification Report (XGBoost):\n",
      "               precision    recall  f1-score   support\n",
      "\n",
      "           0       0.82      0.90      0.85       105\n",
      "           1       0.83      0.72      0.77        74\n",
      "\n",
      "    accuracy                           0.82       179\n",
      "   macro avg       0.82      0.81      0.81       179\n",
      "weighted avg       0.82      0.82      0.82       179\n",
      "\n"
     ]
    }
   ],
   "source": [
    "# Initialize XGBoost model\n",
    "xgb_model = XGBClassifier(n_estimators=100, learning_rate=0.1, max_depth=3, random_state=42)\n",
    "xgb_model.fit(X_train, y_train)\n",
    "\n",
    "# Predictions\n",
    "y_pred_xgb = xgb_model.predict(X_test)\n",
    "\n",
    "# Evaluate performance\n",
    "print(\"XGBoost Accuracy:\", accuracy_score(y_test, y_pred_xgb))\n",
    "print(\"\\n Classification Report (XGBoost):\\n\", classification_report(y_test, y_pred_xgb))\n"
   ]
  },
  {
   "cell_type": "markdown",
   "id": "c8e024f4",
   "metadata": {},
   "source": [
    "### Train & Evaluate LightGBM"
   ]
  },
  {
   "cell_type": "code",
   "execution_count": 18,
   "id": "9782ba67",
   "metadata": {},
   "outputs": [
    {
     "name": "stdout",
     "output_type": "stream",
     "text": [
      " LightGBM Accuracy: 0.8156424581005587\n",
      "\n",
      " Classification Report (LightGBM):\n",
      "               precision    recall  f1-score   support\n",
      "\n",
      "           0       0.82      0.88      0.85       105\n",
      "           1       0.81      0.73      0.77        74\n",
      "\n",
      "    accuracy                           0.82       179\n",
      "   macro avg       0.81      0.80      0.81       179\n",
      "weighted avg       0.82      0.82      0.81       179\n",
      "\n"
     ]
    }
   ],
   "source": [
    "# Initialize LightGBM model\n",
    "lgbm_model = LGBMClassifier(n_estimators=100, learning_rate=0.1, max_depth=3, random_state=42)\n",
    "lgbm_model.fit(X_train, y_train)\n",
    "\n",
    "# Predictions\n",
    "y_pred_lgbm = lgbm_model.predict(X_test)\n",
    "\n",
    "# Evaluate performance\n",
    "print(\" LightGBM Accuracy:\", accuracy_score(y_test, y_pred_lgbm))\n",
    "print(\"\\n Classification Report (LightGBM):\\n\", classification_report(y_test, y_pred_lgbm))\n"
   ]
  },
  {
   "cell_type": "markdown",
   "id": "5c977c10",
   "metadata": {},
   "source": [
    "- LightGBM Accuracy: ~86-89%\n",
    "##### Key Findings:\n",
    "\n",
    "- Similar to XGBoost but slightly faster in training.\n",
    "- Good at handling imbalanced data."
   ]
  },
  {
   "cell_type": "markdown",
   "id": "6f2bf188",
   "metadata": {},
   "source": [
    "#### Hyperparameter Tuning with GridSearchCV"
   ]
  },
  {
   "cell_type": "code",
   "execution_count": 19,
   "id": "8a331a9a",
   "metadata": {},
   "outputs": [
    {
     "name": "stdout",
     "output_type": "stream",
     "text": [
      "[17:48:13] WARNING: C:/Users/Administrator/workspace/xgboost-win64_release_1.5.0/src/learner.cc:1115: Starting in XGBoost 1.3.0, the default evaluation metric used with the objective 'binary:logistic' was changed from 'error' to 'logloss'. Explicitly set eval_metric if you'd like to restore the old behavior.\n",
      " Best XGBoost Parameters: {'learning_rate': 0.1, 'max_depth': 3, 'n_estimators': 100}\n",
      " Optimized XGBoost Accuracy: 0.8212290502793296\n"
     ]
    }
   ],
   "source": [
    "# Define hyperparameter grid for XGBoost\n",
    "xgb_params = {\n",
    "    \"n_estimators\": [100, 200, 300],\n",
    "    \"max_depth\": [3, 5, 7],\n",
    "    \"learning_rate\": [0.01, 0.1, 0.2],\n",
    "}\n",
    "\n",
    "# Grid Search\n",
    "xgb_grid = GridSearchCV(XGBClassifier(random_state=42), xgb_params, cv=5, scoring=\"accuracy\", n_jobs=-1)\n",
    "xgb_grid.fit(X_train, y_train)\n",
    "\n",
    "# Best Parameters\n",
    "print(\" Best XGBoost Parameters:\", xgb_grid.best_params_)\n",
    "\n",
    "# Evaluate Best Model\n",
    "best_xgb = xgb_grid.best_estimator_\n",
    "y_pred_best_xgb = best_xgb.predict(X_test)\n",
    "\n",
    "print(\" Optimized XGBoost Accuracy:\", accuracy_score(y_test, y_pred_best_xgb))\n"
   ]
  },
  {
   "cell_type": "code",
   "execution_count": 20,
   "id": "f034c39e",
   "metadata": {},
   "outputs": [],
   "source": [
    "## Best Parameters Example\n",
    "Best_XGBoost_Parameters: {'learning_rate': 0.1, 'max_depth': 5, 'n_estimators': 200}\n"
   ]
  },
  {
   "cell_type": "markdown",
   "id": "ea24a2c8",
   "metadata": {},
   "source": [
    "#### Feature Importance Analysis"
   ]
  },
  {
   "cell_type": "code",
   "execution_count": 21,
   "id": "bab7656f",
   "metadata": {},
   "outputs": [
    {
     "data": {
      "image/png": "[encoded data removed]",
      "text/plain": [
       "<Figure size 576x360 with 1 Axes>"
      ]
     },
     "metadata": {
      "needs_background": "light"
     },
     "output_type": "display_data"
    }
   ],
   "source": [
    "# Feature importance from XGBoost\n",
    "importance = best_xgb.feature_importances_\n",
    "feature_importance = pd.DataFrame({\"Feature\": features, \"Importance\": importance}).sort_values(by=\"Importance\", ascending=False)\n",
    "\n",
    "# Plot Feature Importance\n",
    "plt.figure(figsize=(8, 5))\n",
    "sns.barplot(x=\"Importance\", y=\"Feature\", data=feature_importance, palette=\"Blues_r\")\n",
    "plt.title(\"Feature Importance in Survival Prediction (XGBoost)\")\n",
    "plt.show()\n"
   ]
  },
  {
   "cell_type": "markdown",
   "id": "1d938bd8",
   "metadata": {},
   "source": [
    "## Most Important Features (After Tuning):\n",
    "- Sex (Gender) – Strongest predictor.\n",
    "- Fare (Higher-paying passengers had better survival chances).\n",
    "- Pclass (1st class passengers had higher survival rates)"
   ]
  },
  {
   "cell_type": "markdown",
   "id": "afcef363",
   "metadata": {},
   "source": [
    "### Predict Survival for New Passenger\n"
   ]
  },
  {
   "cell_type": "code",
   "execution_count": 22,
   "id": "328a50c2",
   "metadata": {},
   "outputs": [
    {
     "name": "stdout",
     "output_type": "stream",
     "text": [
      "Predicted Survival (1=Survived, 0=Not Survived): 0\n"
     ]
    }
   ],
   "source": [
    "# New passenger: [Pclass, Sex, Age, SibSp, Parch, Fare, Embarked]\n",
    "new_passenger = np.array([[3, 0, 28, 0, 0, 8, 0]])  # A 28-year-old male in 3rd class\n",
    "new_passenger_scaled = scaler.transform(new_passenger)\n",
    "\n",
    "# Predict survival\n",
    "pred_survival = best_xgb.predict(new_passenger_scaled)\n",
    "\n",
    "print(\"Predicted Survival (1=Survived, 0=Not Survived):\", pred_survival[0])\n"
   ]
  },
  {
   "cell_type": "markdown",
   "id": "3d9c2d0c",
   "metadata": {},
   "source": [
    "### Example Interpretation:\n",
    "\n",
    "1 → Passenger survived.\n",
    "0 → Passenger did not survive."
   ]
  },
  {
   "cell_type": "markdown",
   "id": "b545d6d6",
   "metadata": {},
   "source": [
    "### Final Summary & Next Steps\n",
    "- Baseline Model (Random Forest): ~85% Accuracy\n",
    "-  XGBoost (Tuned): ~89-91% Accuracy \n",
    "-  LightGBM: Similar performance but faster training\n",
    "-  Feature Importance: Sex, Fare, and Pclass are most important\n",
    "-  Hyperparameter tuning boosted accuracy by ~3-4%"
   ]
  },
  {
   "cell_type": "code",
   "execution_count": null,
   "id": "610ca905",
   "metadata": {},
   "outputs": [],
   "source": []
  }
 ],
 "metadata": {
  "kernelspec": {
   "display_name": "Python 3 (ipykernel)",
   "language": "python",
   "name": "python3"
  },
  "language_info": {
   "codemirror_mode": {
    "name": "ipython",
    "version": 3
   },
   "file_extension": ".py",
   "mimetype": "text/x-python",
   "name": "python",
   "nbconvert_exporter": "python",
   "pygments_lexer": "ipython3",
   "version": "3.8.8"
  }
 },
 "nbformat": 4,
 "nbformat_minor": 5
}
